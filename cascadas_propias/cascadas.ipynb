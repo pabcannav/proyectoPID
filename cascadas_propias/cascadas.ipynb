{
 "cells": [
  {
   "cell_type": "markdown",
   "id": "908ddc58",
   "metadata": {},
   "source": [
    "# **Implementación Cascadas de Haar**"
   ]
  },
  {
   "cell_type": "markdown",
   "id": "45f67c05",
   "metadata": {},
   "source": [
    "## Características de Haar\n",
    "#### El algoritmo de Cascadas de Haar usa filtros restangulares que detectan contrastes de intensidad (claros/oscuros) en la imagen, características típicas de un rostro.\n",
    "#### * Borde horizontal (Separación frente-cejas)\n",
    "#### * Borde vertical (Nariz-mejillas)\n",
    "#### * Rectángulos centrados (Ojos, región oscura sobre fondo claro)\n",
    "#### * Linea horizontal (Boca)"
   ]
  },
  {
   "cell_type": "code",
   "execution_count": 1,
   "id": "4a78ff29",
   "metadata": {},
   "outputs": [],
   "source": [
    "import cv2 as cv"
   ]
  },
  {
   "cell_type": "code",
   "execution_count": null,
   "id": "25505b90",
   "metadata": {},
   "outputs": [],
   "source": []
  },
  {
   "cell_type": "code",
   "execution_count": null,
   "id": "6a66f7bc",
   "metadata": {},
   "outputs": [],
   "source": []
  },
  {
   "cell_type": "code",
   "execution_count": null,
   "id": "7653fb08",
   "metadata": {},
   "outputs": [],
   "source": []
  },
  {
   "cell_type": "code",
   "execution_count": null,
   "id": "305f5975",
   "metadata": {},
   "outputs": [],
   "source": []
  },
  {
   "cell_type": "code",
   "execution_count": null,
   "id": "5ba04a21",
   "metadata": {},
   "outputs": [],
   "source": []
  },
  {
   "cell_type": "code",
   "execution_count": null,
   "id": "245e94dd",
   "metadata": {},
   "outputs": [],
   "source": []
  },
  {
   "cell_type": "code",
   "execution_count": null,
   "id": "07c8f197",
   "metadata": {},
   "outputs": [],
   "source": []
  }
 ],
 "metadata": {
  "kernelspec": {
   "display_name": "Python 3",
   "language": "python",
   "name": "python3"
  },
  "language_info": {
   "codemirror_mode": {
    "name": "ipython",
    "version": 3
   },
   "file_extension": ".py",
   "mimetype": "text/x-python",
   "name": "python",
   "nbconvert_exporter": "python",
   "pygments_lexer": "ipython3",
   "version": "3.13.1"
  }
 },
 "nbformat": 4,
 "nbformat_minor": 5
}

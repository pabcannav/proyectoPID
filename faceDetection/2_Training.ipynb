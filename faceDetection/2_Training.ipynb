{
 "cells": [
  {
   "cell_type": "code",
   "execution_count": 4,
   "metadata": {},
   "outputs": [],
   "source": [
    "import cv2\n",
    "import os\n",
    "import numpy"
   ]
  },
  {
   "cell_type": "markdown",
   "metadata": {},
   "source": [
    "# Loading training data for face recognition"
   ]
  },
  {
   "cell_type": "code",
   "execution_count": 2,
   "metadata": {},
   "outputs": [],
   "source": [
    "def read_images(path, image_size):\n",
    "    names = []\n",
    "    training_images, training_labels = [], []\n",
    "    label = 0\n",
    "    for dirname, subdirnames, filenames in os.walk(path):\n",
    "        for subdirname in subdirnames:\n",
    "            names.append(subdirname)\n",
    "            subject_path = os.path.join(dirname, subdirname)\n",
    "            for filename in os.listdir(subject_path):\n",
    "                img = cv2.imread(os.path.join(subject_path, filename),\n",
    "                                 cv2.IMREAD_GRAYSCALE)\n",
    "                if img is None:\n",
    "                    # The file cannot be loaded as an image.\n",
    "                    # Skip it.\n",
    "                    continue\n",
    "                img = cv2.resize(img, image_size)\n",
    "                training_images.append(img)\n",
    "                training_labels.append(label)\n",
    "            label += 1\n",
    "    training_images = numpy.asarray(training_images, numpy.uint8)\n",
    "    training_labels = numpy.asarray(training_labels, numpy.int32)\n",
    "    return names, training_images, training_labels"
   ]
  },
  {
   "cell_type": "markdown",
   "metadata": {},
   "source": [
    "This function walks through a directory's subdirectories, `loads the images`, `resizes` them to a specified size, and `puts` the resized images `in a list`. Then converts the lists into NumPy arrays.\n",
    "\n",
    "It also builds `two` other lists: first, `a list of people's names or initials` and `a list of labels` associated with the loaded images."
   ]
  },
  {
   "cell_type": "code",
   "execution_count": null,
   "metadata": {},
   "outputs": [],
   "source": [
    "path_to_training_images = '/training'\n",
    "training_image_size = (200, 200)\n",
    "names, training_images, training_labels = read_images(\n",
    "    path_to_training_images, training_image_size)"
   ]
  },
  {
   "cell_type": "markdown",
   "metadata": {},
   "source": [
    "The function has `two input attributes`:\n",
    "- `path_to_training_images`: Root path to the images that will be used for training.\n",
    "- `training_image_size`: Specifies the size of the picked image."
   ]
  },
  {
   "cell_type": "code",
   "execution_count": null,
   "metadata": {},
   "outputs": [],
   "source": [
    "model = cv2.face.EigenFaceRecognizer_create()\n",
    "model.train(training_images, training_labels)"
   ]
  },
  {
   "cell_type": "markdown",
   "metadata": {},
   "source": [
    "We can create and train a face recognizer with these lines of code. (We test it with `EigenFaceRecognizer`)\n",
    "\n",
    "`EigenFaceRecognizer_create()` function has two optional attributes:\n",
    "- `num_components`: This is the number of components to keep for the PCA (`Principal Component Analysis`)\n",
    "- `threshold`: This is a decimal number that indicates a confidence threshold. Images with values below threshold will be discarded.\n",
    "\n",
    "We can test this by using a videocamera feed."
   ]
  },
  {
   "cell_type": "code",
   "execution_count": null,
   "metadata": {},
   "outputs": [],
   "source": [
    "face_cascade = cv2.CascadeClassifier(\n",
    "    './cascades/haarcascade_frontalface_default.xml')\n",
    "\n",
    "camera = cv2.VideoCapture(0)\n",
    "while (cv2.waitKey(1) == -1):\n",
    "    success, frame = camera.read()\n",
    "    if success:\n",
    "        faces = face_cascade.detectMultiScale(frame, 1.3, 5)\n",
    "        for (x, y, w, h) in faces:\n",
    "            cv2.rectangle(frame, (x, y), (x+w, y+h), (255, 0, 0), 2)\n",
    "            gray = cv2.cvtColor(frame, cv2.COLOR_BGR2GRAY)\n",
    "            roi_gray = gray[x:x+w, y:y+h]\n",
    "            if roi_gray.size == 0:\n",
    "                # The ROI is empty. Maybe the face is at the image edge.\n",
    "                # Skip it.\n",
    "                continue\n",
    "            roi_gray = cv2.resize(roi_gray, training_image_size)\n",
    "            label, confidence = model.predict(roi_gray)\n",
    "            text = '%s, confidence=%.2f' % (names[label], confidence)\n",
    "            cv2.putText(frame, text, (x, y - 20),\n",
    "                        cv2.FONT_HERSHEY_SIMPLEX, 1, (255, 0, 0), 2)\n",
    "        cv2.imshow('Face Recognition', frame)"
   ]
  },
  {
   "cell_type": "markdown",
   "metadata": {},
   "source": [
    "For each detected face, we convert and resize it so we have a grayscale that matches the expected size (In our case, 200x200px)"
   ]
  }
 ],
 "metadata": {
  "kernelspec": {
   "display_name": "Python 3",
   "language": "python",
   "name": "python3"
  },
  "language_info": {
   "codemirror_mode": {
    "name": "ipython",
    "version": 3
   },
   "file_extension": ".py",
   "mimetype": "text/x-python",
   "name": "python",
   "nbconvert_exporter": "python",
   "pygments_lexer": "ipython3",
   "version": "3.13.2"
  }
 },
 "nbformat": 4,
 "nbformat_minor": 2
}

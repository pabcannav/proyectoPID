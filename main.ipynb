{
 "cells": [
  {
   "cell_type": "markdown",
   "metadata": {},
   "source": [
    "**En Construcción**\n",
    "En este notebook se irán implementando las funciones junto a las explicaciones requeridas para el trabajo"
   ]
  },
  {
   "cell_type": "markdown",
   "metadata": {},
   "source": [
    "Lo primero que he hecho ha sido colocar en la carpeta source el código fuente que menciona el libro con el que estamos trabajando. Al tratar nuestro trabajo de el reconocimiento facial, he alojado lo correspondiente al capitulo 5."
   ]
  }
 ],
 "metadata": {
  "language_info": {
   "name": "python"
  }
 },
 "nbformat": 4,
 "nbformat_minor": 2
}
